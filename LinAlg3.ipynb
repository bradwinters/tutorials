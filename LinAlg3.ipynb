{
  "nbformat": 4,
  "nbformat_minor": 0,
  "metadata": {
    "colab": {
      "name": "LinAlg3.ipynb",
      "provenance": [],
      "collapsed_sections": [],
      "include_colab_link": true
    },
    "kernelspec": {
      "name": "python3",
      "display_name": "Python 3"
    }
  },
  "cells": [
    {
      "cell_type": "markdown",
      "metadata": {
        "id": "view-in-github",
        "colab_type": "text"
      },
      "source": [
        "<a href=\"https://colab.research.google.com/github/bradwinters/tutorials/blob/master/LinAlg3.ipynb\" target=\"_parent\"><img src=\"https://colab.research.google.com/assets/colab-badge.svg\" alt=\"Open In Colab\"/></a>"
      ]
    },
    {
      "cell_type": "code",
      "metadata": {
        "id": "u6RgQGEXVBpu",
        "colab_type": "code",
        "colab": {}
      },
      "source": [
        "import numpy as np\n"
      ],
      "execution_count": 0,
      "outputs": []
    },
    {
      "cell_type": "markdown",
      "metadata": {
        "id": "utSDwGneBcMa",
        "colab_type": "text"
      },
      "source": [
        "Vector Magnitude |V| is a scalar dot product of the square root of the vector itself.  "
      ]
    },
    {
      "cell_type": "code",
      "metadata": {
        "id": "0cptoVyKWAZq",
        "colab_type": "code",
        "colab": {}
      },
      "source": [
        "def vectorMagnitude(v1):\n",
        "  \n",
        "  mag = np.sqrt(v1.dot(v1))\n",
        "  return(mag)"
      ],
      "execution_count": 0,
      "outputs": []
    },
    {
      "cell_type": "markdown",
      "metadata": {
        "id": "3OaAxpITVGsH",
        "colab_type": "text"
      },
      "source": [
        "# Define re, b1 and b2<br>\n",
        "re is the vector in e space, to be redefined in b space\n"
      ]
    },
    {
      "cell_type": "code",
      "metadata": {
        "id": "1pulwBxvVfAM",
        "colab_type": "code",
        "colab": {}
      },
      "source": [
        "re=np.array([3.,4.])\n",
        "b1=np.array([2.,1.])\n",
        "b2=np.array([-2., 4.])\n"
      ],
      "execution_count": 0,
      "outputs": []
    },
    {
      "cell_type": "markdown",
      "metadata": {
        "id": "dhzkpn_unbA-",
        "colab_type": "text"
      },
      "source": [
        "t1 is the dot product of re and b1, which is then divided by the size of b1 squared<br>\n",
        "re.b1 / (|b1|**2)"
      ]
    },
    {
      "cell_type": "code",
      "metadata": {
        "id": "lzIJD3ZlY4ni",
        "colab_type": "code",
        "outputId": "31b8608e-517f-4041-88dc-5b083feecfad",
        "colab": {
          "base_uri": "https://localhost:8080/",
          "height": 51
        }
      },
      "source": [
        "t1=re.dot(b1)\n",
        "t2=vMag(b1)**2\n",
        "t2=round(t2)\n",
        "print(\"Divide \",t1,\" by \",t2)\n",
        "t3=t1/t2\n",
        "print(t3)"
      ],
      "execution_count": 21,
      "outputs": [
        {
          "output_type": "stream",
          "text": [
            "Divide  10.0  by  5.0\n",
            "2.0\n"
          ],
          "name": "stdout"
        }
      ]
    },
    {
      "cell_type": "markdown",
      "metadata": {
        "id": "J6LEAIRpnvat",
        "colab_type": "text"
      },
      "source": [
        "The previous value, a scalor, is now multiplied by the b1 vector, yeilding a vector.  "
      ]
    },
    {
      "cell_type": "code",
      "metadata": {
        "id": "9MAC_eaZoCuv",
        "colab_type": "code",
        "colab": {
          "base_uri": "https://localhost:8080/",
          "height": 34
        },
        "outputId": "692972be-b97d-47ec-f3af-bf399cbcccbe"
      },
      "source": [
        "partA=np.multiply(t3,b1)\n",
        "print(partA)"
      ],
      "execution_count": 22,
      "outputs": [
        {
          "output_type": "stream",
          "text": [
            "[4. 2.]\n"
          ],
          "name": "stdout"
        }
      ]
    },
    {
      "cell_type": "markdown",
      "metadata": {
        "id": "8tNBCkckC0oX",
        "colab_type": "text"
      },
      "source": [
        "Now do the same thing for b2, Get the scaler then mult by the vector<br>\n",
        "(re.b2 / (|b1b2|**2)"
      ]
    },
    {
      "cell_type": "code",
      "metadata": {
        "id": "isXomGyCYRiF",
        "colab_type": "code",
        "outputId": "09df25bf-fb84-4c28-cdab-d3df6a4be669",
        "colab": {
          "base_uri": "https://localhost:8080/",
          "height": 51
        }
      },
      "source": [
        "u1=re.dot(b2)\n",
        "u2=vMag(b2)**2\n",
        "u2=round(u2)\n",
        "print(\"Divide \",u1,\" by \",u2)\n",
        "u3=u1/u2\n",
        "print(u3)"
      ],
      "execution_count": 23,
      "outputs": [
        {
          "output_type": "stream",
          "text": [
            "Divide  10.0  by  20.0\n",
            "0.5\n"
          ],
          "name": "stdout"
        }
      ]
    },
    {
      "cell_type": "code",
      "metadata": {
        "id": "vU3K4bxyZUzM",
        "colab_type": "code",
        "colab": {
          "base_uri": "https://localhost:8080/",
          "height": 34
        },
        "outputId": "376c05e6-9637-47ee-c591-abae55291263"
      },
      "source": [
        "partB=np.multiply(u3,b2)\n",
        "print(partB)"
      ],
      "execution_count": 28,
      "outputs": [
        {
          "output_type": "stream",
          "text": [
            "[-1.  2.]\n"
          ],
          "name": "stdout"
        }
      ]
    },
    {
      "cell_type": "markdown",
      "metadata": {
        "id": "Bwgpfi28fNIh",
        "colab_type": "text"
      },
      "source": [
        "Finally add partA and partB to get the matrix co ordinates in the original system<br>\n",
        "But go back to t3 and u3 for the co ordinates in the b system, shown last"
      ]
    },
    {
      "cell_type": "code",
      "metadata": {
        "id": "FTf5GbPqatoA",
        "colab_type": "code",
        "colab": {
          "base_uri": "https://localhost:8080/",
          "height": 51
        },
        "outputId": "28b3c990-d504-43e2-fa84-74b205b69ab7"
      },
      "source": [
        "print(\"Add \",partA,\" to \",partB)\n",
        "F=partA+partB\n",
        "print(F)"
      ],
      "execution_count": 29,
      "outputs": [
        {
          "output_type": "stream",
          "text": [
            "Add  [4. 2.]  to  [-1.  2.]\n",
            "[3. 4.]\n"
          ],
          "name": "stdout"
        }
      ]
    },
    {
      "cell_type": "code",
      "metadata": {
        "id": "1qVXrLouGx5x",
        "colab_type": "code",
        "colab": {}
      },
      "source": [
        "nVector=np.array([t3,u3])"
      ],
      "execution_count": 0,
      "outputs": []
    },
    {
      "cell_type": "code",
      "metadata": {
        "id": "GcsnoC2lGnCj",
        "colab_type": "code",
        "colab": {
          "base_uri": "https://localhost:8080/",
          "height": 34
        },
        "outputId": "23b89768-bbeb-43d5-ad45-76191561242d"
      },
      "source": [
        "print(\"The new co ordinate vector is \",nVector,\".\")"
      ],
      "execution_count": 32,
      "outputs": [
        {
          "output_type": "stream",
          "text": [
            "The new co ordinate vector is  [2.  0.5] .\n"
          ],
          "name": "stdout"
        }
      ]
    },
    {
      "cell_type": "markdown",
      "metadata": {
        "id": "-WutnwniF71K",
        "colab_type": "text"
      },
      "source": [
        ""
      ]
    }
  ]
}