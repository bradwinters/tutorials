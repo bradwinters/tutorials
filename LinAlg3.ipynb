{
  "nbformat": 4,
  "nbformat_minor": 0,
  "metadata": {
    "colab": {
      "name": "LinAlg3.ipynb",
      "provenance": [],
      "collapsed_sections": [],
      "include_colab_link": true
    },
    "kernelspec": {
      "name": "python3",
      "display_name": "Python 3"
    }
  },
  "cells": [
    {
      "cell_type": "markdown",
      "metadata": {
        "id": "view-in-github",
        "colab_type": "text"
      },
      "source": [
        "<a href=\"https://colab.research.google.com/github/bradwinters/tutorials/blob/master/LinAlg3.ipynb\" target=\"_parent\"><img src=\"https://colab.research.google.com/assets/colab-badge.svg\" alt=\"Open In Colab\"/></a>"
      ]
    },
    {
      "cell_type": "code",
      "metadata": {
        "id": "u6RgQGEXVBpu",
        "colab_type": "code",
        "colab": {}
      },
      "source": [
        "import numpy as np\n"
      ],
      "execution_count": 0,
      "outputs": []
    },
    {
      "cell_type": "markdown",
      "metadata": {
        "id": "INE3I_mFX335",
        "colab_type": "text"
      },
      "source": [
        "Definitions  --------------------------------------------------------------------"
      ]
    },
    {
      "cell_type": "markdown",
      "metadata": {
        "id": "utSDwGneBcMa",
        "colab_type": "text"
      },
      "source": [
        "Vector Magnitude |V| is a scalar dot product of the square root of the vector itself.  "
      ]
    },
    {
      "cell_type": "markdown",
      "metadata": {
        "id": "PeK7w8FgV_yS",
        "colab_type": "text"
      },
      "source": [
        "Scalar Projection:  r.s / |r| = |s| cos Theta"
      ]
    },
    {
      "cell_type": "markdown",
      "metadata": {
        "id": "lYs1aKELXO9T",
        "colab_type": "text"
      },
      "source": [
        "Vector Projection: r.s / |r||r|  = (r.s / r.r ) r"
      ]
    },
    {
      "cell_type": "markdown",
      "metadata": {
        "id": "kLMIK0_WWRGg",
        "colab_type": "text"
      },
      "source": [
        "Cosine Rule: <br>if Dot product =0, 90 degrees, orthogonal;<br> If dot product +, Same dir<br> if Dot product -, 180 degrees opposite direction, "
      ]
    },
    {
      "cell_type": "markdown",
      "metadata": {
        "id": "tXrlGZSKXzyi",
        "colab_type": "text"
      },
      "source": [
        "--------------------------------------------------------------------------------------------"
      ]
    },
    {
      "cell_type": "markdown",
      "metadata": {
        "id": "DuV8F7tjX_nO",
        "colab_type": "text"
      },
      "source": [
        "Subroutines  --------------------------------------------------------------"
      ]
    },
    {
      "cell_type": "code",
      "metadata": {
        "id": "0cptoVyKWAZq",
        "colab_type": "code",
        "colab": {}
      },
      "source": [
        "def vectorMagnitude(v1):\n",
        "  \n",
        "  mag = np.sqrt(v1.dot(v1))\n",
        "  return(mag)"
      ],
      "execution_count": 0,
      "outputs": []
    },
    {
      "cell_type": "markdown",
      "metadata": {
        "id": "fR7taAm6W8yB",
        "colab_type": "text"
      },
      "source": [
        ""
      ]
    },
    {
      "cell_type": "markdown",
      "metadata": {
        "id": "GlgwpUt7X4NR",
        "colab_type": "text"
      },
      "source": [
        ""
      ]
    },
    {
      "cell_type": "code",
      "metadata": {
        "id": "vYVFpcBfT-ok",
        "colab_type": "code",
        "colab": {}
      },
      "source": [
        "def Calc(pr,pb):\n",
        "  _p1=pr.dot(pb)\n",
        "  _p2=vectorMagnitude(pb)**2\n",
        "  round(_p2)\n",
        "  return _p1/_p2"
      ],
      "execution_count": 0,
      "outputs": []
    },
    {
      "cell_type": "markdown",
      "metadata": {
        "id": "bmLJukuvYESr",
        "colab_type": "text"
      },
      "source": [
        "--------------------------------------------------------------------"
      ]
    },
    {
      "cell_type": "markdown",
      "metadata": {
        "id": "5oFWUTUHYOJZ",
        "colab_type": "text"
      },
      "source": [
        "Define re as the existing vector in n dimensions and bx as new co ordinates in n dimentions"
      ]
    },
    {
      "cell_type": "markdown",
      "metadata": {
        "id": "qzw1tUacVtDG",
        "colab_type": "text"
      },
      "source": [
        "1) Example from lecture:   2 dimensions"
      ]
    },
    {
      "cell_type": "code",
      "metadata": {
        "colab_type": "code",
        "id": "quXy611wSCkv",
        "colab": {}
      },
      "source": [
        "re=np.array([3.,4.])\n",
        "b1=np.array([2.,1.])\n",
        "b2=np.array([-2.,4.])"
      ],
      "execution_count": 0,
      "outputs": []
    },
    {
      "cell_type": "code",
      "metadata": {
        "id": "GWL1t7ytVNCX",
        "colab_type": "code",
        "colab": {}
      },
      "source": [
        "a1=Calc(re,b1)\n",
        "a2=Calc(re,b2)\n",
        "print(a1,\"  \",a2)"
      ],
      "execution_count": 0,
      "outputs": []
    },
    {
      "cell_type": "markdown",
      "metadata": {
        "id": "XFcpIoheV0Bo",
        "colab_type": "text"
      },
      "source": [
        "quiz q1"
      ]
    },
    {
      "cell_type": "code",
      "metadata": {
        "id": "soA6U4IgWx5R",
        "colab_type": "code",
        "colab": {}
      },
      "source": [
        "re=np.array([5.,-1.])\n",
        "b1=np.array([1.,1.])\n",
        "b2=np.array([1.,-1.])"
      ],
      "execution_count": 0,
      "outputs": []
    },
    {
      "cell_type": "code",
      "metadata": {
        "id": "IlpdoWmnVeSu",
        "colab_type": "code",
        "colab": {}
      },
      "source": [
        "a1=Calc(re,b1)\n",
        "a2=Calc(re,b2)\n",
        "print(a1,\"  \",a2)"
      ],
      "execution_count": 0,
      "outputs": []
    },
    {
      "cell_type": "markdown",
      "metadata": {
        "id": "DeeLZDaoY6JE",
        "colab_type": "text"
      },
      "source": [
        "quiz q2: 2 dimensions"
      ]
    },
    {
      "cell_type": "code",
      "metadata": {
        "id": "8jc36Tv4Y_m0",
        "colab_type": "code",
        "colab": {}
      },
      "source": [
        "re=np.array([10.,-5.])\n",
        "b1=np.array([3.,4.])\n",
        "b2=np.array([4. -3.])"
      ],
      "execution_count": 0,
      "outputs": []
    },
    {
      "cell_type": "code",
      "metadata": {
        "id": "h_mhOXPwZldM",
        "colab_type": "code",
        "colab": {}
      },
      "source": [
        "a1=Calc(re,b1)\n",
        "a2=Calc(re,b2)\n",
        "print(a1,\"  \",a2)"
      ],
      "execution_count": 0,
      "outputs": []
    },
    {
      "cell_type": "markdown",
      "metadata": {
        "id": "NjpSyPpWV6Zw",
        "colab_type": "text"
      },
      "source": [
        "quiz q3:   2 dimensions"
      ]
    },
    {
      "cell_type": "code",
      "metadata": {
        "id": "_Xf66sQ8aIH_",
        "colab_type": "code",
        "colab": {}
      },
      "source": [
        "re=np.array([2.,2.])\n",
        "b1=np.array([-3.,1.])\n",
        "b2=np.array([1. 3.])"
      ],
      "execution_count": 0,
      "outputs": []
    },
    {
      "cell_type": "code",
      "metadata": {
        "id": "NQX535pGaI6D",
        "colab_type": "code",
        "colab": {}
      },
      "source": [
        "a1=Calc(re,b1)\n",
        "a2=Calc(re,b2)\n",
        "print(a1,\"  \",a2)"
      ],
      "execution_count": 0,
      "outputs": []
    },
    {
      "cell_type": "markdown",
      "metadata": {
        "id": "iFInBboSahaT",
        "colab_type": "text"
      },
      "source": [
        "quiz q4: 3 dimensions now"
      ]
    },
    {
      "cell_type": "code",
      "metadata": {
        "id": "1pulwBxvVfAM",
        "colab_type": "code",
        "colab": {}
      },
      "source": [
        "re=np.array([1.,1.,1.])\n",
        "b1=np.array([2.,1.,0.])\n",
        "b2=np.array([1.,-2.,-1.])\n",
        "b3=np.array([-1.,2.,-5.])\n"
      ],
      "execution_count": 0,
      "outputs": []
    },
    {
      "cell_type": "code",
      "metadata": {
        "id": "HSyGNx6rZqMJ",
        "colab_type": "code",
        "colab": {}
      },
      "source": [
        "a1=Calc(re,b1)\n",
        "a2=Calc(re,b2)\n",
        "a3=Calc(re,b3)\n",
        "print(a1,\"  \",a2, \"  \",a3)"
      ],
      "execution_count": 0,
      "outputs": []
    },
    {
      "cell_type": "markdown",
      "metadata": {
        "id": "dKR8I7TTZ1ny",
        "colab_type": "text"
      },
      "source": [
        "quiz q5: 4 dimensions"
      ]
    },
    {
      "cell_type": "code",
      "metadata": {
        "id": "OoK-FBDQUFoK",
        "colab_type": "code",
        "colab": {}
      },
      "source": [
        "re=np.array([1.,1.,2.,3.])\n",
        "b1=np.array([1.,0.,0.,1.])\n",
        "b2=np.array([0.,1.,2.,0.])\n",
        "b3=np.array([0.,1.,2.,0.])\n",
        "b4=np.array([0.,0.,0.,3.])"
      ],
      "execution_count": 0,
      "outputs": []
    },
    {
      "cell_type": "code",
      "metadata": {
        "id": "scioWY1PYBCi",
        "colab_type": "code",
        "colab": {}
      },
      "source": [
        "a1=Calc(re,b1)\n",
        "a2=Calc(re,b2)\n",
        "a3=Calc(re,b3)\n",
        "a4=Calc(re,b4)\n",
        "print(a1,\" \",a2,\"  \",a3,\" \",a4)"
      ],
      "execution_count": 0,
      "outputs": []
    },
    {
      "cell_type": "markdown",
      "metadata": {
        "id": "gzRh0TjnPKQi",
        "colab_type": "text"
      },
      "source": [
        "Put all results in an array for presentation\n"
      ]
    },
    {
      "cell_type": "code",
      "metadata": {
        "id": "1qVXrLouGx5x",
        "colab_type": "code",
        "colab": {}
      },
      "source": [
        "nVector=np.array([a1,a2])"
      ],
      "execution_count": 0,
      "outputs": []
    },
    {
      "cell_type": "code",
      "metadata": {
        "id": "GcsnoC2lGnCj",
        "colab_type": "code",
        "colab": {
          "base_uri": "https://localhost:8080/",
          "height": 34
        },
        "outputId": "ea553054-3b13-4fc1-cc94-f985d5541a93"
      },
      "source": [
        "print(\"The new co ordinate vector is \",nVector,\".\")"
      ],
      "execution_count": 61,
      "outputs": [
        {
          "output_type": "stream",
          "text": [
            "The new co ordinate vector is  [2. 3.] .\n"
          ],
          "name": "stdout"
        }
      ]
    },
    {
      "cell_type": "markdown",
      "metadata": {
        "id": "-WutnwniF71K",
        "colab_type": "text"
      },
      "source": [
        ""
      ]
    }
  ]
}