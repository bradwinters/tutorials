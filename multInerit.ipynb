{
  "nbformat": 4,
  "nbformat_minor": 0,
  "metadata": {
    "colab": {
      "name": "multInerit.ipynb",
      "provenance": [],
      "collapsed_sections": [],
      "authorship_tag": "ABX9TyN72SEanXbGXCBKF+9FAnYK",
      "include_colab_link": true
    },
    "kernelspec": {
      "name": "python3",
      "display_name": "Python 3"
    },
    "language_info": {
      "name": "python"
    }
  },
  "cells": [
    {
      "cell_type": "markdown",
      "metadata": {
        "id": "view-in-github",
        "colab_type": "text"
      },
      "source": [
        "<a href=\"https://colab.research.google.com/github/bradwinters/tutorials/blob/master/multInerit.ipynb\" target=\"_parent\"><img src=\"https://colab.research.google.com/assets/colab-badge.svg\" alt=\"Open In Colab\"/></a>"
      ]
    },
    {
      "cell_type": "code",
      "metadata": {
        "colab": {
          "base_uri": "https://localhost:8080/"
        },
        "id": "DLnH9PDjCt93",
        "outputId": "218e7bd6-8f7b-4f5c-98fa-6ff7e672daa8"
      },
      "source": [
        "class Dinosaur:\n",
        "  def __init__(self,size, weight):\n",
        "    self.size=size\n",
        "    self.weight = weight\n",
        "    \n",
        "class Carnivore:\n",
        "  def __init__(self, diet):\n",
        "    self.diet = diet\n",
        "    \n",
        "    # mult inheritance has both parent classes\n",
        "    # its constructor accepts all paramenters of the combined classes and has \n",
        "    # two lines for contructors under its main constructor\n",
        "class Tyrannosaurus(Dinosaur, Carnivore):\n",
        "  def __init__(self, size, weight, diet):\n",
        "    Dinosaur.__init__(self,size,weight)\n",
        "    Carnivore.__init__(self,diet)\n",
        "    \n",
        "    \n",
        "tiny = Tyrannosaurus(12,14,\"Whatever it wants\")\n",
        "\n",
        "print(tiny.size)"
      ],
      "execution_count": 4,
      "outputs": [
        {
          "output_type": "stream",
          "name": "stdout",
          "text": [
            "12\n"
          ]
        }
      ]
    }
  ]
}