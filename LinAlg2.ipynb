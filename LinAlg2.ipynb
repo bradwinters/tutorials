{
  "nbformat": 4,
  "nbformat_minor": 0,
  "metadata": {
    "colab": {
      "name": "LinAlg2.ipynb",
      "provenance": [],
      "collapsed_sections": [],
      "include_colab_link": true
    },
    "kernelspec": {
      "name": "python3",
      "display_name": "Python 3"
    }
  },
  "cells": [
    {
      "cell_type": "markdown",
      "metadata": {
        "id": "view-in-github",
        "colab_type": "text"
      },
      "source": [
        "<a href=\"https://colab.research.google.com/github/bradwinters/tutorials/blob/master/LinAlg2.ipynb\" target=\"_parent\"><img src=\"https://colab.research.google.com/assets/colab-badge.svg\" alt=\"Open In Colab\"/></a>"
      ]
    },
    {
      "cell_type": "code",
      "metadata": {
        "id": "u6RgQGEXVBpu",
        "colab_type": "code",
        "colab": {}
      },
      "source": [
        "import numpy as np\n"
      ],
      "execution_count": 0,
      "outputs": []
    },
    {
      "cell_type": "code",
      "metadata": {
        "id": "0cptoVyKWAZq",
        "colab_type": "code",
        "colab": {}
      },
      "source": [
        "def vMag(v1):\n",
        "  \n",
        "  mag = np.sqrt(v1.dot(v1))\n",
        "  return(mag)"
      ],
      "execution_count": 0,
      "outputs": []
    },
    {
      "cell_type": "markdown",
      "metadata": {
        "id": "3OaAxpITVGsH",
        "colab_type": "text"
      },
      "source": [
        "Define re, b1 and b2\n"
      ]
    },
    {
      "cell_type": "code",
      "metadata": {
        "id": "1pulwBxvVfAM",
        "colab_type": "code",
        "colab": {}
      },
      "source": [
        "re=np.array([3.,4.])\n",
        "b1=np.array([2.,1.])\n",
        "b2=np.array([-2., 4.])\n"
      ],
      "execution_count": 0,
      "outputs": []
    },
    {
      "cell_type": "code",
      "metadata": {
        "id": "isXomGyCYRiF",
        "colab_type": "code",
        "outputId": "6d1dfe09-74b3-40b7-fecc-c0756c3360f8",
        "colab": {
          "base_uri": "https://localhost:8080/",
          "height": 68
        }
      },
      "source": [
        "x1=vMag(re)\n",
        "x2=vMag(b1)\n",
        "x3=vMag(b2)\n",
        "print(x1)\n",
        "print(x2)\n",
        "print(x3)"
      ],
      "execution_count": 0,
      "outputs": [
        {
          "output_type": "stream",
          "text": [
            "5.0\n",
            "2.23606797749979\n",
            "4.47213595499958\n"
          ],
          "name": "stdout"
        }
      ]
    },
    {
      "cell_type": "code",
      "metadata": {
        "id": "lzIJD3ZlY4ni",
        "colab_type": "code",
        "outputId": "8561533c-21f4-4836-97f7-a5c6e28fe779",
        "colab": {
          "base_uri": "https://localhost:8080/",
          "height": 34
        }
      },
      "source": [
        "x4=b1.dot(b2)\n",
        "print(x4)"
      ],
      "execution_count": 0,
      "outputs": [
        {
          "output_type": "stream",
          "text": [
            "0.0\n"
          ],
          "name": "stdout"
        }
      ]
    },
    {
      "cell_type": "code",
      "metadata": {
        "id": "vU3K4bxyZUzM",
        "colab_type": "code",
        "colab": {}
      },
      "source": [
        "x5=re.dot(b1)\n",
        "x6=b1.dot"
      ],
      "execution_count": 0,
      "outputs": []
    },
    {
      "cell_type": "markdown",
      "metadata": {
        "id": "Bwgpfi28fNIh",
        "colab_type": "text"
      },
      "source": [
        "# **Scalor and then Vector Projections bold text**"
      ]
    },
    {
      "cell_type": "markdown",
      "metadata": {
        "id": "gHctcHgScy8k",
        "colab_type": "text"
      },
      "source": [
        "**Try a scalor projection of S on R ***</b>\n",
        "r.s/|r|"
      ]
    },
    {
      "cell_type": "code",
      "metadata": {
        "id": "x29kJujdc-2-",
        "colab_type": "code",
        "outputId": "1a74de66-826c-4bea-f481-8381f4e3e4db",
        "colab": {
          "base_uri": "https://localhost:8080/",
          "height": 85
        }
      },
      "source": [
        "r=np.array([3.,-4.,0.])\n",
        "s=np.array([10.,5.,-6.])\n",
        "t1=r.dot(s)\n",
        "print(t1)\n",
        "t2=vMag(r)\n",
        "print(t2)\n",
        "print(\"Finally\")\n",
        "print(t1/t2)"
      ],
      "execution_count": 0,
      "outputs": [
        {
          "output_type": "stream",
          "text": [
            "10.0\n",
            "5.0\n",
            "Finally\n",
            "2.0\n"
          ],
          "name": "stdout"
        }
      ]
    },
    {
      "cell_type": "markdown",
      "metadata": {
        "id": "DNjur9a_gDVd",
        "colab_type": "text"
      },
      "source": [
        "Now for the Vector Projection Formula<br>\n",
        "r.s/|r|.|r|=(r.s/r.r)r"
      ]
    },
    {
      "cell_type": "code",
      "metadata": {
        "id": "KT6kJzdhgX5t",
        "colab_type": "code",
        "outputId": "c05f68df-88e8-4918-91cd-ec48bcce9f1f",
        "colab": {
          "base_uri": "https://localhost:8080/",
          "height": 136
        }
      },
      "source": [
        "r=np.array([3.,-4.,0.])\n",
        "s=np.array([10.,5.,-6.])\n",
        "print(\"Here is r dot s\")\n",
        "t1=r.dot(s)\n",
        "print(t1)\n",
        "print(\"Here is r plus s\")\n",
        "t1=np.add(r,s)\n",
        "print(t1)\n",
        "t1=np.multiply(r,s)\n",
        "t2=vMag(r)\n",
        "t3=t2*t2\n",
        "print(t2)\n",
        "print(\"Finally\")\n",
        "t5=np.divide(t1,t3)\n",
        "print(t5)"
      ],
      "execution_count": 8,
      "outputs": [
        {
          "output_type": "stream",
          "text": [
            "Here is r dot s\n",
            "10.0\n",
            "Here is r plus s\n",
            "[13.  1. -6.]\n",
            "5.0\n",
            "Finally\n",
            "[ 1.2 -0.8 -0. ]\n"
          ],
          "name": "stdout"
        }
      ]
    }
  ]
}